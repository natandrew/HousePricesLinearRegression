{
 "cells": [
  {
   "cell_type": "code",
   "execution_count": null,
   "id": "318e5423-75c5-4b3e-aff7-4fc9c0c2ac62",
   "metadata": {},
   "outputs": [],
   "source": [
    "import pandas as pd\n",
    "import numpy as np\n",
    "import matplotlib.pyplot as plt\n",
    "import seaborn as sns\n",
    "from sklearn.tree import DecisionTreeRegressor\n",
    "from sklearn.model_selection import train_test_split\n",
    "from sklearn.linear_model import LinearRegression\n",
    "from sklearn.metrics import mean_squared_error, mean_absolute_error, r2_score"
   ]
  },
  {
   "cell_type": "code",
   "execution_count": null,
   "id": "e74911b9-b515-4623-9885-d70d158fe9c8",
   "metadata": {},
   "outputs": [],
   "source": [
    "df = pd.read_csv('Housing.csv')"
   ]
  },
  {
   "cell_type": "code",
   "execution_count": null,
   "id": "83a2a3e2-8bfd-4a13-a3cc-6c8d0e73806f",
   "metadata": {},
   "outputs": [],
   "source": [
    "#Adding features to dataset: proximity to schools and public transport\n",
    "df['ProximityToSchool'] = np.random.choice(['Far', 'Close'], size=len(df), p=[0.6, 0.4])\n",
    "df['ProximityToTransport'] = np.random.choice(['Far', 'Close'], size=len(df), p=[0.4, 0.6])\n",
    "df.to_csv('AdditionalHousing.csv', index=False)"
   ]
  },
  {
   "cell_type": "code",
   "execution_count": null,
   "id": "b53b5f61-0b50-4953-8de8-d579c0c68bd5",
   "metadata": {},
   "outputs": [],
   "source": [
    "#handling missing values\n",
    "df.dropna(axis=1, inplace=True)\n",
    "df.info()"
   ]
  },
  {
   "cell_type": "code",
   "execution_count": null,
   "id": "30103bfb-b043-49a2-abd1-f7afb6789e55",
   "metadata": {},
   "outputs": [],
   "source": [
    "#converting categorical data into numerical values using one-hot encoding\n",
    "df = pd.get_dummies(df, drop_first=True)\n",
    "df.info()"
   ]
  },
  {
   "cell_type": "code",
   "execution_count": null,
   "id": "f904b25d-c5fb-4b70-b318-8c75ff26e249",
   "metadata": {},
   "outputs": [],
   "source": [
    "#Line plot using Matplotlib\n",
    "plt.plot(df['price'], df['area'])\n",
    "plt.title('Price-Area Line Plot')\n",
    "plt.xlabel('Price')\n",
    "plt.ylabel('Area')\n",
    "plt.show()"
   ]
  },
  {
   "cell_type": "code",
   "execution_count": null,
   "id": "d99f258e-4383-4ae9-be74-80b5766fb2fe",
   "metadata": {},
   "outputs": [],
   "source": [
    "#Correlation heatmap using Seaborn\n",
    "corr_matrix = df.corr()\n",
    "plt.figure(figsize=(10, 6))\n",
    "sns.heatmap(corr_matrix, annot=True, cmap='coolwarm', fmt='.2f')\n",
    "plt.title('Correlation Heatmap')\n",
    "plt.show()"
   ]
  },
  {
   "cell_type": "code",
   "execution_count": null,
   "id": "821100f4-a2ab-4598-9379-2a06650039a9",
   "metadata": {},
   "outputs": [],
   "source": [
    "#Check correlations between features and the target variable(house price)\n",
    "price_corr = corr_matrix['price'].sort_values(ascending=False)\n",
    "print(price_corr)"
   ]
  },
  {
   "cell_type": "code",
   "execution_count": null,
   "id": "fdc65afe-bebf-4dc8-b0f5-942ceb166632",
   "metadata": {},
   "outputs": [],
   "source": [
    "#Use Scikit-learn’s Linear Regression to train a model\n",
    "X = df[['area', 'bathrooms']]\n",
    "y = df['price']\n",
    "#Split data into train/test sets\n",
    "X_train, X_test, y_train, y_test = train_test_split(X, y, test_size=0.2, random_state=42)\n",
    "\n",
    "model = LinearRegression()\n",
    "model.fit(X_train, y_train)\n",
    "\n",
    "y_pred = model.predict(X_test)\n",
    "\n",
    "#Evaluate the performance with metrics\n",
    "mse = mean_squared_error(y_test, y_pred)\n",
    "mae = mean_absolute_error(y_test, y_pred)\n",
    "r2 = r2_score(y_test, y_pred)\n",
    "\n",
    "print(f\"MSE: {mse}\")\n",
    "print(f\"MAE: {mae}\")\n",
    "print(f\"R2: {r2}\")"
   ]
  },
  {
   "cell_type": "code",
   "execution_count": null,
   "id": "77410e23-5ed5-407e-88d9-10bc5476299c",
   "metadata": {},
   "outputs": [],
   "source": [
    "#Decision Tree for comparision\n",
    "tree_model = DecisionTreeRegressor(random_state=42)\n",
    "tree_model.fit(X_train, y_train)\n",
    "\n",
    "y_pred_tree = tree_model.predict(X_test)\n",
    "\n",
    "mse_tree = mean_squared_error(y_test, y_pred_tree)\n",
    "mae_tree = mean_absolute_error(y_test, y_pred_tree)\n",
    "r2_tree = r2_score(y_test, y_pred_tree)\n",
    "\n",
    "print(f\"MSE: {mse_tree}\")\n",
    "print(f\"MAE: {mae_tree}\")\n",
    "print(f\"R2: {r2_tree}\")"
   ]
  },
  {
   "cell_type": "code",
   "execution_count": null,
   "id": "5b9eba94-47d8-4ff3-bcc7-e6290b9418c5",
   "metadata": {},
   "outputs": [],
   "source": [
    "#Visualization for comparision\n",
    "plt.scatter(y_test, y_pred, label='Linear Regression', color='blue')\n",
    "plt.scatter(y_test, y_pred_tree, label='Decision Tree Regressor', color='green')\n",
    "plt.plot([min(y_test), max(y_test)], [min(y_test), max(y_test)], color='red', linestyle='--')\n",
    "plt.xlabel('Actual Price')\n",
    "plt.ylabel('Predicted Prices')\n",
    "plt.title('Actual vs Predicted Prices')\n",
    "plt.legend()\n",
    "plt.show()"
   ]
  }
 ],
 "metadata": {
  "kernelspec": {
   "display_name": "Python 3 (ipykernel)",
   "language": "python",
   "name": "python3"
  },
  "language_info": {
   "codemirror_mode": {
    "name": "ipython",
    "version": 3
   },
   "file_extension": ".py",
   "mimetype": "text/x-python",
   "name": "python",
   "nbconvert_exporter": "python",
   "pygments_lexer": "ipython3",
   "version": "3.12.7"
  }
 },
 "nbformat": 4,
 "nbformat_minor": 5
}
